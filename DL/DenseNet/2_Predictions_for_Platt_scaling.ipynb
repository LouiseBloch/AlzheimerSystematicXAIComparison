{
 "cells": [
  {
   "cell_type": "code",
   "execution_count": null,
   "id": "d399220c",
   "metadata": {},
   "outputs": [],
   "source": [
    "#imports\n",
    "import sys\n",
    "import pandas as pd\n",
    "from sklearn.model_selection import StratifiedKFold\n",
    "import os\n",
    "import logging\n",
    "\n",
    "import torch\n",
    "import monai\n",
    "from monai.data import DataLoader\n",
    "from monai.transforms import (\n",
    "    AddChanneld,\n",
    "    CenterSpatialCropd,\n",
    "    Compose,\n",
    "    Resized,\n",
    "    RandSpatialCropd,\n",
    "    ScaleIntensityd,\n",
    "    ToTensord,\n",
    "    LoadImaged,\n",
    "    Identityd,\n",
    ")\n",
    "\n",
    "logging.basicConfig(stream=sys.stdout, level=logging.INFO)"
   ]
  },
  {
   "cell_type": "code",
   "execution_count": null,
   "id": "9d6c3cb1",
   "metadata": {},
   "outputs": [],
   "source": [
    "#definitions of path\n",
    "MODEL_DIR = os.path.join(\"./DenseNet/\")\n",
    "path_train_data=os.path.join(\"../../data/trainValid_DL.csv\")\n",
    "filename_predictions_for_platt_scaling=os.path.join(\"./DenseNet/predictions_for_platt_scaling.csv\")"
   ]
  },
  {
   "cell_type": "code",
   "execution_count": null,
   "id": "3e26460d",
   "metadata": {},
   "outputs": [],
   "source": [
    "#hyperparameters which were selected during hyperparameter tuning\n",
    "lr=1e-4\n",
    "optimizer=\"none\"\n",
    "strategy=\"adam\"\n",
    "epoch=31"
   ]
  },
  {
   "cell_type": "code",
   "execution_count": null,
   "id": "8c4433da",
   "metadata": {},
   "outputs": [],
   "source": [
    "#definition of batch size, numbers should be devisors of 64\n",
    "BATCH_SIZE=2"
   ]
  },
  {
   "cell_type": "code",
   "execution_count": null,
   "id": "7edc642d",
   "metadata": {},
   "outputs": [],
   "source": [
    "#load ADNI training dataset\n",
    "trainValidMerged=pd.read_csv(path_train_data,index_col=\"PTID\")"
   ]
  },
  {
   "cell_type": "code",
   "execution_count": null,
   "id": "1a3fc926",
   "metadata": {},
   "outputs": [],
   "source": [
    "#load data augmentations\n",
    "train_transforms = Compose(\n",
    "        [\n",
    "            LoadImaged(keys=[\"img\"]),\n",
    "            AddChanneld(keys=[\"img\"]),\n",
    "            ScaleIntensityd(keys=[\"img\"]),\n",
    "            Resized(keys=[\"img\"],spatial_size=(256,256,256)),\n",
    "            RandSpatialCropd(keys=[\"img\"],roi_size=(224,224,224),random_size =False),\n",
    "            ToTensord(keys=[\"img\"]),\n",
    "        ]\n",
    "    )\n",
    "\n",
    "valid_transforms = Compose(\n",
    "        [\n",
    "            LoadImaged(keys=[\"img\"]),\n",
    "            AddChanneld(keys=[\"img\"]),\n",
    "            ScaleIntensityd(keys=[\"img\"]),\n",
    "            Resized(keys=[\"img\"],spatial_size=(256,256,256)),\n",
    "            CenterSpatialCropd(keys=[\"img\"],roi_size=(224,224,224)),\n",
    "            ToTensord(keys=[\"img\"]),\n",
    "        ]\n",
    "    )\n"
   ]
  },
  {
   "cell_type": "code",
   "execution_count": null,
   "id": "779bb03c",
   "metadata": {},
   "outputs": [],
   "source": [
    "#extract predictions of model during CV for platt scaling\n",
    "kf = StratifiedKFold(n_splits=5,shuffle=True,random_state=101)\n",
    "cvIt=0\n",
    "#initialize lists to store predictions and labels for validation data\n",
    "pred_val=[]\n",
    "label_val=[]\n",
    "#cross validation\n",
    "for trainCross, validCross in kf.split(trainValidMerged,trainValidMerged.DX):\n",
    "    cvIt+=1\n",
    "    #extract validation dataset for split\n",
    "    valid=trainValidMerged.iloc[validCross]\n",
    "    #transform data to pytorch format\n",
    "    Y_valid=pd.get_dummies(valid.DX,drop_first=True).to_numpy().squeeze()\n",
    "    Y_valid=Y_valid.tolist()\n",
    "    validDSNew = [{\"img\": img, \"label\": label} for img, label in zip(valid.filename, Y_valid)]\n",
    "    valid_ds = monai.data.Dataset(data=validDSNew, transform=valid_transforms)\n",
    "    valid_loader = DataLoader(valid_ds, batch_size=BATCH_SIZE, shuffle=False, num_workers=8, pin_memory=torch.cuda.is_available())\n",
    "    #choose cudo as the devive if it is available\n",
    "    device = torch.device(\"cuda\" if torch.cuda.is_available() else \"cpu\")\n",
    "    #load DL model using monai\n",
    "    model = monai.networks.nets.densenet121(spatial_dims=3, in_channels=1, out_channels=2)\n",
    "    #load models trained during hyperparameter tuning\n",
    "    PATH=MODEL_DIR+\"model_\"+str(strategy)+\"_\"+str(lr)+\"_\"+optimizer+\"_\"+str(cvIt)+\"_\"+str(epoch)+\"_polyak_averaged.pth\"\n",
    "    model.load_state_dict(torch.load(PATH))  # Choose whatever GPU device number you want\n",
    "    model=model.to(device)\n",
    "    #change model to evaluation model\n",
    "    model.eval()\n",
    "    with torch.no_grad():\n",
    "        #iterate over validation data\n",
    "        for val_data in valid_loader:\n",
    "            #load inputs and labels for validation dataset\n",
    "            inputs=val_data[\"img\"].cuda()\n",
    "            labels=val_data[\"label\"].cuda()\n",
    "            #predict output of model\n",
    "            outputs = model(inputs)\n",
    "            #compute predictions\n",
    "            pred=torch.nn.functional.softmax(outputs)\n",
    "            #store predictions\n",
    "            pred_val.extend(pred.cpu().detach().numpy().tolist())\n",
    "            label_val.extend(labels.cpu().detach().numpy().tolist())"
   ]
  },
  {
   "cell_type": "code",
   "execution_count": null,
   "id": "dbb96a24",
   "metadata": {},
   "outputs": [],
   "source": [
    "#flatten list of predictions\n",
    "pred_val_second=[i[1] for i in pred_val]"
   ]
  },
  {
   "cell_type": "code",
   "execution_count": null,
   "id": "bee9b680",
   "metadata": {},
   "outputs": [],
   "source": [
    "#save model predictions and labels\n",
    "df=pd.DataFrame({\"predictions\":pred_val_second,\"labels\":label_val})\n",
    "df.to_csv(filename_predictions_for_platt_scaling)"
   ]
  }
 ],
 "metadata": {
  "kernelspec": {
   "display_name": "Python 3 (ipykernel)",
   "language": "python",
   "name": "python3"
  },
  "language_info": {
   "codemirror_mode": {
    "name": "ipython",
    "version": 3
   },
   "file_extension": ".py",
   "mimetype": "text/x-python",
   "name": "python",
   "nbconvert_exporter": "python",
   "pygments_lexer": "ipython3",
   "version": "3.8.10"
  }
 },
 "nbformat": 4,
 "nbformat_minor": 5
}
