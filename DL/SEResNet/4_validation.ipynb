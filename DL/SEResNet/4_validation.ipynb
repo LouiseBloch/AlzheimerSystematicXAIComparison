{
 "cells": [
  {
   "cell_type": "code",
   "execution_count": null,
   "id": "c8149ada",
   "metadata": {},
   "outputs": [],
   "source": [
    "#imports\n",
    "import sys\n",
    "import pandas as pd\n",
    "from sklearn.model_selection import StratifiedKFold\n",
    "import numpy as np\n",
    "import os\n",
    "import time\n",
    "import logging\n",
    "from livelossplot import PlotLosses\n",
    "from sklearn.linear_model import LogisticRegression\n",
    "import torch\n",
    "import monai\n",
    "from monai.data import DataLoader\n",
    "from monai.transforms import (\n",
    "    AddChanneld,\n",
    "    CenterSpatialCropd,\n",
    "    Compose,\n",
    "    Resized,\n",
    "    RandSpatialCropd,\n",
    "    ScaleIntensityd,\n",
    "    ToTensord,\n",
    "    LoadImaged,\n",
    "    Identityd,\n",
    ")\n",
    "logging.basicConfig(stream=sys.stdout, level=logging.INFO)\n",
    "from sklearn.metrics import accuracy_score\n",
    "from sklearn.metrics import balanced_accuracy_score\n",
    "from sklearn.metrics import f1_score\n",
    "from sklearn.metrics import matthews_corrcoef\n",
    "from sklearn.metrics import roc_auc_score"
   ]
  },
  {
   "cell_type": "code",
   "execution_count": null,
   "id": "b8e86d22",
   "metadata": {},
   "outputs": [],
   "source": [
    "#hyperparameters which were selected during hyperparameter tuning\n",
    "lr=1e-4\n",
    "optimizer=\"none\"\n",
    "strategy=\"adam\"\n",
    "epoch=84"
   ]
  },
  {
   "cell_type": "code",
   "execution_count": null,
   "id": "a8c7c70c",
   "metadata": {},
   "outputs": [],
   "source": [
    "#definitions of paths\n",
    "MODEL_DIR = os.path.join(\"./SEResNet/\")\n",
    "path_test_data=os.path.join(\"../../data/test_DL.csv\")\n",
    "path_test_AIBL=os.path.join(\"../../data/AIBL_DL.csv\")\n",
    "path_test_OASIS=os.path.join(\"../../data/OASIS_DL.csv\")\n",
    "filename_predictions_for_platt_scaling=os.path.join(\"./SEResNet/predictions_for_platt_scaling.csv\")\n",
    "mapping_ML_DL=os.path.join(\"../../additional_data/Mapping_DKT_Regions_Deep_ML_new.csv\")"
   ]
  },
  {
   "cell_type": "code",
   "execution_count": null,
   "id": "fc689059",
   "metadata": {},
   "outputs": [],
   "source": [
    "BATCH_SIZE=1"
   ]
  },
  {
   "cell_type": "code",
   "execution_count": null,
   "id": "0023d81d",
   "metadata": {},
   "outputs": [],
   "source": [
    "#load ADNI train and test data\n",
    "test=pd.read_csv(path_test_data,index_col=\"PTID\")\n",
    "AIBL=pd.read_csv(path_test_AIBL,index_col=\"PTID\")\n",
    "OASIS=pd.read_csv(path_test_OASIS,index_col=\"PTID\")"
   ]
  },
  {
   "cell_type": "code",
   "execution_count": null,
   "id": "4ac46efd",
   "metadata": {},
   "outputs": [],
   "source": [
    "#load data augmentations\n",
    "test_transforms = Compose(\n",
    "        [\n",
    "            LoadImaged(keys=[\"img\"]),\n",
    "            AddChanneld(keys=[\"img\"]),\n",
    "            ScaleIntensityd(keys=[\"img\"]),\n",
    "            Resized(keys=[\"img\"],spatial_size=(256,256,256)),\n",
    "            CenterSpatialCropd(keys=[\"img\"],roi_size=(224,224,224)),\n",
    "            ToTensord(keys=[\"img\"]),\n",
    "        ]\n",
    "    )\n",
    "#reformat test, AIBL and OASIS datasets for pytorch\n",
    "Y_test=pd.get_dummies(test.DX,drop_first=True).to_numpy().squeeze()\n",
    "Y_test=Y_test.tolist()\n",
    "test_files = [{\"img\": img, \"label\": label} for img, label in zip(test.filename, Y_test)]\n",
    "test_ds = monai.data.Dataset(data=test_files, transform=test_transforms)\n",
    "test_loader = DataLoader(test_ds, batch_size=BATCH_SIZE, shuffle=False, num_workers=1, pin_memory=torch.cuda.is_available())\n",
    "\n",
    "Y_AIBL=pd.get_dummies(AIBL.DX,drop_first=True).to_numpy().squeeze()\n",
    "Y_AIBL=Y_AIBL.tolist()\n",
    "AIBL_files = [{\"img\": img, \"label\": label} for img, label in zip(AIBL.filename, Y_AIBL)]\n",
    "AIBL_ds = monai.data.Dataset(data=AIBL_files, transform=test_transforms)\n",
    "AIBL_loader = DataLoader(AIBL_ds, batch_size=BATCH_SIZE, shuffle=False, num_workers=1, pin_memory=torch.cuda.is_available())\n",
    "\n",
    "Y_OASIS=pd.get_dummies(OASIS.DX,drop_first=True).to_numpy().squeeze()\n",
    "Y_OASIS=Y_OASIS.tolist()\n",
    "OASIS_files = [{\"img\": img, \"label\": label} for img, label in zip(OASIS.filename, Y_OASIS)]\n",
    "OASIS_ds = monai.data.Dataset(data=OASIS_files, transform=test_transforms)\n",
    "OASIS_loader = DataLoader(OASIS_ds, batch_size=BATCH_SIZE, shuffle=False, num_workers=1, pin_memory=torch.cuda.is_available())"
   ]
  },
  {
   "cell_type": "code",
   "execution_count": null,
   "id": "61374b5e",
   "metadata": {},
   "outputs": [],
   "source": [
    "#train Logistic Regression model for Platt's scaling\n",
    "pred = pd.read_csv(filename_predictions_for_platt_scaling)\n",
    "predictions = np.expand_dims(pred.predictions.to_numpy(), axis=1)\n",
    "clf = LogisticRegression(random_state=0).fit(predictions, pred.labels)"
   ]
  },
  {
   "cell_type": "code",
   "execution_count": null,
   "id": "5e1f0550",
   "metadata": {},
   "outputs": [],
   "source": [
    "#initialize dataframe to safe test predictions\n",
    "column_names = [\"labels\",\"predictions_bin\",\"predictions_prob\"]\n",
    "dfTrain = pd.DataFrame(columns = column_names)"
   ]
  },
  {
   "cell_type": "code",
   "execution_count": null,
   "id": "cdfc47c3",
   "metadata": {},
   "outputs": [],
   "source": [
    "#choose cuda as the device if it is available\n",
    "device = torch.device(\"cuda\" if torch.cuda.is_available() else \"cpu\")\n",
    "#load DL model using monai\n",
    "model = monai.networks.nets.SEResNet152(num_classes=2,spatial_dims=3, in_channels=1)\n",
    "#load final model weights\n",
    "PATH=MODEL_DIR+\"model_\"+str(opt)+\"_\"+str(lr)+\"_\"+str(strategy)+\"_\"+str(epoch)+\"_final_model_polyak_averaged.pth\"\n",
    "model.load_state_dict(torch.load(PATH))\n",
    "model=model.to(device)\n",
    "#change model to evaluation model\n",
    "model.eval()\n",
    "with torch.no_grad():\n",
    "    #iterate over validation data\n",
    "    for test_data in test_loader:\n",
    "        #load inputs and labels for ADNI test dataset\n",
    "        inputs=test_data[\"img\"].cuda()\n",
    "        labels=test_data[\"label\"].cuda()\n",
    "        #predict output of model\n",
    "        outputs = model(inputs)\n",
    "        #compute predictions\n",
    "        predProba=torch.nn.functional.softmax(outputs)\n",
    "        predProba=predProba.cpu().detach().numpy()[:,1]\n",
    "        predProba=np.expand_dims(predProba, axis=1)\n",
    "        #compute calibrated predictions\n",
    "        predProba=clf.predict_proba(predProba)\n",
    "        pred=predProba.argmax()\n",
    "        #save predictions and labels of test data\n",
    "        column_names = [\"labels\",\"predictions_bin\",\"predictions_prob\"]\n",
    "        values=[labels.cpu().detach().item(),pred,predProba[0,1]]\n",
    "        df2 = pd.DataFrame([values],columns = column_names)\n",
    "        dfTrain=dfTrain.append(df2, ignore_index=True)"
   ]
  },
  {
   "cell_type": "code",
   "execution_count": null,
   "id": "b6662791",
   "metadata": {},
   "outputs": [],
   "source": []
  },
  {
   "cell_type": "code",
   "execution_count": null,
   "id": "bcbffd6b",
   "metadata": {},
   "outputs": [],
   "source": [
    "#compute metrics for ADNI test set\n",
    "acc_adni_test=accuracy_score(dfTrain.labels.tolist(), dfTrain.predictions_bin.tolist())\n",
    "bacc_adni_test=balanced_accuracy_score(dfTrain.labels.tolist(), dfTrain.predictions_bin.tolist())\n",
    "f1_adni_test=f1_score(dfTrain.labels.tolist(), dfTrain.predictions_bin.tolist(), average='macro')\n",
    "mcc_adni_test=matthews_corrcoef(dfTrain.labels.tolist(), dfTrain.predictions_bin.tolist())\n",
    "auroc_adni_test=roc_auc_score(dfTrain.labels.tolist(), dfTrain.predictions_prob.tolist())"
   ]
  },
  {
   "cell_type": "code",
   "execution_count": null,
   "id": "8222923a",
   "metadata": {},
   "outputs": [],
   "source": [
    "print(f\"Accuracy (ADNI test set): {round(acc_adni_test*100,2)},\\n balanced-accuracy (ADNI test set): {round(bacc_adni_test*100,2)},\\n Macro-averaging F1-score (ADNI test set): {round(f1_adni_test*100,2)},\\n MCC (ADNI test set): {round(mcc_adni_test,3)},\\n AUROC (ADNI test set): {round(auroc_adni_test*100,2)}\")"
   ]
  },
  {
   "cell_type": "code",
   "execution_count": null,
   "id": "f9ca48a6",
   "metadata": {},
   "outputs": [],
   "source": [
    "#initialize dataframe to safe AIBL test predictions\n",
    "column_names = [\"labels\",\"predictions_bin\",\"predictions_prob\"]\n",
    "dfTrainAIBL = pd.DataFrame(columns = column_names)"
   ]
  },
  {
   "cell_type": "code",
   "execution_count": null,
   "id": "6ca32546",
   "metadata": {},
   "outputs": [],
   "source": [
    "model.eval()\n",
    "with torch.no_grad():\n",
    "    #iterate over validation data\n",
    "    for test_data in AIBL_loader:\n",
    "        #load inputs and labels for AIBL test dataset\n",
    "        inputs=test_data[\"img\"].cuda()\n",
    "        labels=test_data[\"label\"].cuda()\n",
    "        #predict output of model\n",
    "        outputs = model(inputs)\n",
    "        #compute predictions\n",
    "        predProba=torch.nn.functional.softmax(outputs)\n",
    "        predProba=predProba.cpu().detach().numpy()[:,1]\n",
    "        predProba=np.expand_dims(predProba, axis=1)\n",
    "        #compute calibrated predictions\n",
    "        predProba=clf.predict_proba(predProba)\n",
    "        pred=predProba.argmax()\n",
    "        #save predictions and labels of test data\n",
    "        column_names = [\"labels\",\"predictions_bin\",\"predictions_prob\"]\n",
    "        values=[labels.cpu().detach().item(),pred,predProba[0,1]]\n",
    "        df2 = pd.DataFrame([values],columns = column_names)\n",
    "        dfTrainAIBL=dfTrainAIBL.append(df2, ignore_index=True)"
   ]
  },
  {
   "cell_type": "code",
   "execution_count": null,
   "id": "4de2c476",
   "metadata": {},
   "outputs": [],
   "source": [
    "#compute metrics for AIBL test set\n",
    "acc_aibl_test=accuracy_score(dfTrainAIBL.labels.tolist(), dfTrainAIBL.predictions_bin.tolist())\n",
    "bacc_aibl_test=balanced_accuracy_score(dfTrainAIBL.labels.tolist(), dfTrainAIBL.predictions_bin.tolist())\n",
    "f1_aibl_test=f1_score(dfTrainAIBL.labels.tolist(), dfTrainAIBL.predictions_bin.tolist(), average='macro')\n",
    "mcc_aibl_test=matthews_corrcoef(dfTrainAIBL.labels.tolist(), dfTrainAIBL.predictions_bin.tolist())\n",
    "auroc_aibl_test=roc_auc_score(dfTrainAIBL.labels.tolist(), dfTrainAIBL.predictions_prob.tolist())"
   ]
  },
  {
   "cell_type": "code",
   "execution_count": null,
   "id": "7e9fbcb0",
   "metadata": {},
   "outputs": [],
   "source": [
    "print(f\"Accuracy (AIBL test set): {round(acc_aibl_test*100,2)},\\n balanced-accuracy (AIBL test set): {round(bacc_aibl_test*100,2)},\\n Macro-averaging F1-score (AIBL test set): {round(f1_aibl_test*100,2)},\\n MCC (AIBL test set): {round(mcc_aibl_test,3)},\\n AUROC (AIBL test set): {round(auroc_aibl_test*100,2)}\")"
   ]
  },
  {
   "cell_type": "code",
   "execution_count": null,
   "id": "fec68202",
   "metadata": {},
   "outputs": [],
   "source": [
    "#initialize dataframe to safe OASIS test predictions\n",
    "column_names = [\"labels\",\"predictions_bin\",\"predictions_prob\"]\n",
    "dfTrainOASIS = pd.DataFrame(columns = column_names)"
   ]
  },
  {
   "cell_type": "code",
   "execution_count": null,
   "id": "5c81ca87",
   "metadata": {},
   "outputs": [],
   "source": [
    "model.eval()\n",
    "with torch.no_grad():\n",
    "    #iterate over validation data\n",
    "    for test_data in OASIS_loader:\n",
    "        #load inputs and labels for OASIS test dataset\n",
    "        inputs=test_data[\"img\"].cuda()\n",
    "        labels=test_data[\"label\"].cuda()\n",
    "        #predict output of model\n",
    "        outputs = model(inputs)\n",
    "        #compute predictions\n",
    "        predProba=torch.nn.functional.softmax(outputs)\n",
    "        predProba=predProba.cpu().detach().numpy()[:,1]\n",
    "        predProba=np.expand_dims(predProba, axis=1)\n",
    "        #compute calibrated predictions\n",
    "        predProba=clf.predict_proba(predProba)\n",
    "        pred=predProba.argmax()\n",
    "        #save predictions and labels of test data\n",
    "        column_names = [\"labels\",\"predictions_bin\",\"predictions_prob\"]\n",
    "        values=[labels.cpu().detach().item(),pred,predProba[0,1]]\n",
    "        df2 = pd.DataFrame([values],columns = column_names)\n",
    "        dfTrainOASIS=dfTrainOASIS.append(df2, ignore_index=True)"
   ]
  },
  {
   "cell_type": "code",
   "execution_count": null,
   "id": "7361bd59",
   "metadata": {},
   "outputs": [],
   "source": [
    "#compute metrics for OASIS test set\n",
    "acc_oasis_test=accuracy_score(dfTrainOASIS.labels.tolist(), dfTrainOASIS.predictions_bin.tolist())\n",
    "bacc_oasis_test=balanced_accuracy_score(dfTrainOASIS.labels.tolist(), dfTrainOASIS.predictions_bin.tolist())\n",
    "f1_oasis_test=f1_score(dfTrainOASIS.labels.tolist(), dfTrainOASIS.predictions_bin.tolist(), average='macro')\n",
    "mcc_oasis_test=matthews_corrcoef(dfTrainOASIS.labels.tolist(), dfTrainOASIS.predictions_bin.tolist())\n",
    "auroc_oasis_test=roc_auc_score(dfTrainOASIS.labels.tolist(), dfTrainOASIS.predictions_prob.tolist())"
   ]
  },
  {
   "cell_type": "code",
   "execution_count": null,
   "id": "e482e623",
   "metadata": {},
   "outputs": [],
   "source": [
    "print(f\"Accuracy (OASIS test set): {round(acc_oasis_test*100,2)},\\n balanced-accuracy (OASIS test set): {round(bacc_oasis_test*100,2)},\\n Macro-averaging F1-score (OASIS test set): {round(f1_oasis_test*100,2)},\\n MCC (OASIS test set): {round(mcc_oasis_test,3)},\\n AUROC (OASIS test set): {round(auroc_oasis_test*100,2)}\")"
   ]
  }
 ],
 "metadata": {
  "kernelspec": {
   "display_name": "Python 3 (ipykernel)",
   "language": "python",
   "name": "python3"
  },
  "language_info": {
   "codemirror_mode": {
    "name": "ipython",
    "version": 3
   },
   "file_extension": ".py",
   "mimetype": "text/x-python",
   "name": "python",
   "nbconvert_exporter": "python",
   "pygments_lexer": "ipython3",
   "version": "3.8.10"
  }
 },
 "nbformat": 4,
 "nbformat_minor": 5
}
